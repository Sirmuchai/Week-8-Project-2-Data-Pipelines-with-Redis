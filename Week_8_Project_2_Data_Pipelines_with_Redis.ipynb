{
  "nbformat": 4,
  "nbformat_minor": 0,
  "metadata": {
    "colab": {
      "provenance": []
    },
    "kernelspec": {
      "name": "python3",
      "display_name": "Python 3"
    },
    "language_info": {
      "name": "python"
    }
  },
  "cells": [
    {
      "cell_type": "markdown",
      "source": [
        "## Import files"
      ],
      "metadata": {
        "id": "ik1O1vlW6CGK"
      }
    },
    {
      "cell_type": "code",
      "source": [
        "!pip install redis"
      ],
      "metadata": {
        "colab": {
          "base_uri": "https://localhost:8080/"
        },
        "id": "ucX2Tk8o6a5U",
        "outputId": "65a16531-fb4e-42b5-f2a4-fd57a46d2c6f"
      },
      "execution_count": 1,
      "outputs": [
        {
          "output_type": "stream",
          "name": "stdout",
          "text": [
            "Looking in indexes: https://pypi.org/simple, https://us-python.pkg.dev/colab-wheels/public/simple/\n",
            "Collecting redis\n",
            "  Downloading redis-4.5.5-py3-none-any.whl (240 kB)\n",
            "\u001b[2K     \u001b[90m━━━━━━━━━━━━━━━━━━━━━━━━━━━━━━━━━━━━━━\u001b[0m \u001b[32m240.3/240.3 kB\u001b[0m \u001b[31m14.4 MB/s\u001b[0m eta \u001b[36m0:00:00\u001b[0m\n",
            "\u001b[?25hCollecting async-timeout>=4.0.2 (from redis)\n",
            "  Downloading async_timeout-4.0.2-py3-none-any.whl (5.8 kB)\n",
            "Installing collected packages: async-timeout, redis\n",
            "Successfully installed async-timeout-4.0.2 redis-4.5.5\n"
          ]
        }
      ]
    },
    {
      "cell_type": "code",
      "source": [
        "import pandas as pd\n",
        "import psycopg2\n",
        "import redis"
      ],
      "metadata": {
        "id": "Bcu2EQhe6BX8"
      },
      "execution_count": 2,
      "outputs": []
    },
    {
      "cell_type": "markdown",
      "source": [
        "## Setting Up connections"
      ],
      "metadata": {
        "id": "yVcs3C_C6QNn"
      }
    },
    {
      "cell_type": "code",
      "source": [
        "# Redis Cloud Instance \n",
        "redis_host = 'redis-15321.c114.us-east-1-4.ec2.cloud.redislabs.com'\n",
        "redis_port = 15321\n",
        "redis_password = 'kNCwxO32b7hdUiTqekLaZlH3TxkaMFY3'\n",
        "\n",
        "\n",
        "# Postgres Database \n",
        "pg_host = '22.237.226.11'\n",
        "pg_database = 'telecommunications_data'\n",
        "pg_user = 'postgresDB'\n",
        "pg_password = 'password01'"
      ],
      "metadata": {
        "id": "ibf54U8n6PeI"
      },
      "execution_count": 3,
      "outputs": []
    },
    {
      "cell_type": "markdown",
      "source": [
        "### Redis Client"
      ],
      "metadata": {
        "id": "nM_044BF6tD_"
      }
    },
    {
      "cell_type": "code",
      "source": [
        "redis_client = redis.Redis(host=redis_host, port=redis_port, password=redis_password)"
      ],
      "metadata": {
        "id": "S2n2mty_6e0Y"
      },
      "execution_count": 4,
      "outputs": []
    },
    {
      "cell_type": "markdown",
      "source": [
        "## Extracting and loading data"
      ],
      "metadata": {
        "id": "22iIW1Ge63rA"
      }
    },
    {
      "cell_type": "code",
      "source": [
        "def extract_data():\n",
        "    # Extract data from CSV file using pandas\n",
        "    data = pd.read_csv('customer_call_logs.csv')\n",
        "    \n",
        "    # Cache data in Redis for faster retrieval\n",
        "    redis_client.set('customer_call_logs', data.to_json())"
      ],
      "metadata": {
        "id": "X4U3w9xg68Ig"
      },
      "execution_count": 18,
      "outputs": []
    },
    {
      "cell_type": "markdown",
      "source": [
        "## Transforming Data"
      ],
      "metadata": {
        "id": "yhhAbOLT7DPI"
      }
    },
    {
      "cell_type": "code",
      "source": [
        "def transform_data():\n",
        "    # Retrieve data from Redis cache\n",
        "    #filename = \"customer_call_logs.csv\"\n",
        "    #with open(filename.decode('utf-8'), 'r') as f:\n",
        "    #data = pd.read_json(redis_client.get('customer_call_logs.csv'))\n",
        "    data_bytes = redis_client.get('customer_call_logs')\n",
        "    data_decode = data_bytes.decode('utf-8')\n",
        "    data = pd.read_json(data_decode)\n",
        "\n",
        "\n",
        "    # Transform data (clean, structure, format)\n",
        "    transformed_data = data.copy()\n",
        "    transformed_data['call_cost_usd'] = transformed_data['call_cost'].str.replace('$', '').astype(float)\n",
        "    transformed_data['call_date'] = pd.to_datetime(transformed_data['call_date'])\n",
        "    transformed_data['call_duration_min'] = pd.to_timedelta(transformed_data['call_duration']).dt.total_seconds() / 60.0\n",
        "    transformed_data = transformed_data[['customer_id', 'call_cost_usd', 'call_destination', 'call_date', 'call_duration_min']]\n",
        "    \n",
        "    return transformed_data"
      ],
      "metadata": {
        "id": "KaGDfb247Fzg"
      },
      "execution_count": 19,
      "outputs": []
    },
    {
      "cell_type": "markdown",
      "source": [
        "### Loading TransformedData"
      ],
      "metadata": {
        "id": "SDIxYTaL7Na6"
      }
    },
    {
      "cell_type": "code",
      "source": [
        "def load_data(transformed_data):\n",
        "    # Connect to Postgres database\n",
        "    conn = psycopg2.connect(host=pg_host, database=pg_database, user=pg_user, password=pg_password)\n",
        "\n",
        "    # Create a cursor object\n",
        "    cur = conn.cursor()\n",
        "\n",
        "    # Create a table to store the data\n",
        "    cur.execute('CREATE TABLE IF NOT EXISTS customer_call_logs (\\\n",
        "                 customer_id INT,\\\n",
        "                 call_cost_usd FLOAT,\\\n",
        "                 call_destination VARCHAR,\\\n",
        "                 call_date TIMESTAMP,\\\n",
        "                 call_duration_min FLOAT\\\n",
        "                 )')\n",
        "\n",
        "    # Insert the transformed data into the database\n",
        "    for i, row in transformed_data.iterrows():\n",
        "        cur.execute(f\"INSERT INTO customer_call_logs (customer_id, call_cost_usd, call_destination, call_date, call_duration_min) VALUES ({row['customer_id']}, {row['call_cost_usd']}, '{row['call_destination']}', '{row['call_date']}', {row['call_duration_min']})\")\n",
        "\n",
        "    # Commit the changes\n",
        "    conn.commit()\n",
        "\n",
        "    # Close the cursor and connection\n",
        "    cur.close()\n",
        "    conn.close()"
      ],
      "metadata": {
        "id": "-RKOUCma7Mdg"
      },
      "execution_count": 20,
      "outputs": []
    },
    {
      "cell_type": "markdown",
      "source": [
        "## Data Pipeline "
      ],
      "metadata": {
        "id": "Cv83K-mJ7VPw"
      }
    },
    {
      "cell_type": "code",
      "execution_count": 21,
      "metadata": {
        "id": "xIxqrMiE5_D9"
      },
      "outputs": [],
      "source": [
        "def data_pipeline():\n",
        "    extract_data()\n",
        "    transformed_data = transform_data()\n",
        "    load_data(transformed_data)"
      ]
    },
    {
      "cell_type": "markdown",
      "source": [
        "## Running our program"
      ],
      "metadata": {
        "id": "0yrC_qwm7bb3"
      }
    },
    {
      "cell_type": "code",
      "source": [
        "if __name__ == '__main__':\n",
        "    # call pipeline function\n",
        "    data_pipeline()"
      ],
      "metadata": {
        "id": "21CyIXnZ-zor"
      },
      "execution_count": null,
      "outputs": []
    }
  ]
}